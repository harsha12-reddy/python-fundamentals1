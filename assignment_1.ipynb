{
 "cells": [
  {
   "cell_type": "code",
   "execution_count": 20,
   "metadata": {},
   "outputs": [],
   "source": [
    "#1\n",
    "   "
   ]
  },
  {
   "cell_type": "code",
   "execution_count": 21,
   "metadata": {},
   "outputs": [],
   "source": [
    "def city_country(cityname,countryname):\n",
    "    \"creating a function describing cityname and countryname\"\n",
    "    print(f\"{cityname},{countryname}\")"
   ]
  },
  {
   "cell_type": "code",
   "execution_count": 22,
   "metadata": {},
   "outputs": [
    {
     "name": "stdout",
     "output_type": "stream",
     "text": [
      "\"delhi\",\"india\"\n"
     ]
    }
   ],
   "source": [
    " city_country('\"delhi\"','\"india\"')"
   ]
  },
  {
   "cell_type": "code",
   "execution_count": 23,
   "metadata": {},
   "outputs": [
    {
     "name": "stdout",
     "output_type": "stream",
     "text": [
      "\"paris\",\"france\"\n"
     ]
    }
   ],
   "source": [
    "city_country('\"paris\"','\"france\"')"
   ]
  },
  {
   "cell_type": "code",
   "execution_count": 24,
   "metadata": {},
   "outputs": [
    {
     "name": "stdout",
     "output_type": "stream",
     "text": [
      "\"moscow\",\"russia\"\n"
     ]
    }
   ],
   "source": [
    "city_country('\"moscow\"','\"russia\"')"
   ]
  },
  {
   "cell_type": "code",
   "execution_count": 25,
   "metadata": {},
   "outputs": [],
   "source": [
    "#2"
   ]
  },
  {
   "cell_type": "code",
   "execution_count": 82,
   "metadata": {},
   "outputs": [],
   "source": [
    "def sandwitch_toppings(*sandwitchlist):\n",
    "    print(\"list of items on sandwitch\")\n",
    "    for items in sandwitchlist:\n",
    "        print(\"adding \" +items+\"to sandwitch\")"
   ]
  },
  {
   "cell_type": "code",
   "execution_count": 83,
   "metadata": {},
   "outputs": [
    {
     "name": "stdout",
     "output_type": "stream",
     "text": [
      "list of items on sandwitch\n",
      "adding paneerto sandwitch\n",
      "adding cheeseto sandwitch\n",
      "adding cornto sandwitch\n"
     ]
    }
   ],
   "source": [
    "sandwitch_toppings('paneer','cheese','corn')"
   ]
  },
  {
   "cell_type": "code",
   "execution_count": 84,
   "metadata": {},
   "outputs": [
    {
     "name": "stdout",
     "output_type": "stream",
     "text": [
      "list of items on sandwitch\n",
      "adding chickento sandwitch\n",
      "adding cheeseto sandwitch\n",
      "adding lettuceto sandwitch\n"
     ]
    }
   ],
   "source": [
    "sandwitch_toppings('chicken','cheese','lettuce')"
   ]
  },
  {
   "cell_type": "code",
   "execution_count": 85,
   "metadata": {},
   "outputs": [
    {
     "name": "stdout",
     "output_type": "stream",
     "text": [
      "list of items on sandwitch\n",
      "adding veggiesto sandwitch\n",
      "adding italian cheeseto sandwitch\n",
      "adding lettuceto sandwitch\n"
     ]
    }
   ],
   "source": [
    "sandwitch_toppings('veggies','italian cheese','lettuce')"
   ]
  },
  {
   "cell_type": "code",
   "execution_count": null,
   "metadata": {},
   "outputs": [],
   "source": []
  }
 ],
 "metadata": {
  "kernelspec": {
   "display_name": "Python 3",
   "language": "python",
   "name": "python3"
  },
  "language_info": {
   "codemirror_mode": {
    "name": "ipython",
    "version": 3
   },
   "file_extension": ".py",
   "mimetype": "text/x-python",
   "name": "python",
   "nbconvert_exporter": "python",
   "pygments_lexer": "ipython3",
   "version": "3.8.5"
  }
 },
 "nbformat": 4,
 "nbformat_minor": 4
}
